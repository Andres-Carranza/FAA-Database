{
 "cells": [
  {
   "cell_type": "markdown",
   "metadata": {},
   "source": [
    "# FAA Database Query"
   ]
  },
  {
   "cell_type": "markdown",
   "metadata": {},
   "source": [
    "## This python script lets you request data from the FAA database in a simple way and allows you to visualize it"
   ]
  },
  {
   "cell_type": "markdown",
   "metadata": {},
   "source": [
    "#### Set up the query"
   ]
  },
  {
   "cell_type": "code",
   "execution_count": 1,
   "metadata": {
    "scrolled": true
   },
   "outputs": [],
   "source": [
    "import requests\n",
    "\n",
    "data_atrs = {\n",
    "    'keylist':'LOCID%2CYYYYMM',\n",
    "    'line': '',\n",
    "    'cmd' : 'tot',\n",
    "    'avgdays': '1'\n",
    "    }\n",
    "line_atrs  = {\n",
    "    'start_date' : '', #YYYYMM\n",
    "    'end_date' : '', #YYYYMM\n",
    "    'airports' : '' #ATL%27%2C%27+BOS%27%2C%27+...+SLC%27%2C%27+TPA\n",
    "\n",
    "    }"
   ]
  },
  {
   "cell_type": "markdown",
   "metadata": {},
   "source": [
    "#### Enter the parameters for the data you want"
   ]
  },
  {
   "cell_type": "code",
   "execution_count": 2,
   "metadata": {
    "scrolled": true
   },
   "outputs": [
    {
     "name": "stdout",
     "output_type": "stream",
     "text": [
      "enter start date in yyyymm format: 202001\n",
      "enter end date in yyyymm format: 202004\n",
      "enter aiport 3 letter coces in all caps with space in between: SFO LAX IAD\n"
     ]
    }
   ],
   "source": [
    "line_atrs['start_date'] = input('enter start date in yyyymm format: ')\n",
    "line_atrs['end_date'] = input('enter end date in yyyymm format: ')\n",
    "\n",
    "airports = input('enter aiport 3 letter codes in all caps with space in between: ').split(' ')\n"
   ]
  },
  {
   "cell_type": "markdown",
   "metadata": {},
   "source": [
    "#### Format query and request data"
   ]
  },
  {
   "cell_type": "code",
   "execution_count": 3,
   "metadata": {
    "scrolled": true
   },
   "outputs": [
    {
     "name": "stdout",
     "output_type": "stream",
     "text": [
      "sending request...\n",
      "response: <Response [200]>\n"
     ]
    }
   ],
   "source": [
    "line_atrs['airports'] = ''\n",
    "for airport in airports:\n",
    "    line_atrs['airports']+=airport+'%27%2C%27+'\n",
    "\n",
    "line_atrs['airports'] = line_atrs['airports'][:-10]\n",
    "\n",
    "data_atrs['line'] = 'SELECT+LOCID%2CYYYYMM+FROM+OPSNETSUMS+WHERE+YYYYMM%3E%3D{}+AND+YYYYMM%3C%3D{}+AND+LOCID+IN+%28%27+{}+%27%29+GROUP+BY+LOCID%2CYYYYMM+ORDER+BY+LOCID%2CYYYYMM'\n",
    "data_atrs['line'] = data_atrs['line'].format(line_atrs['start_date'],line_atrs['end_date'],line_atrs['airports'])\n",
    "\n",
    "\n",
    "data_param = ''\n",
    "for atr in data_atrs:\n",
    "    data_param+=atr+'='+data_atrs[atr]+'&'\n",
    "\n",
    "headers = { \n",
    "        'Content-Type': 'application/x-www-form-urlencoded'\n",
    "    }\n",
    "\n",
    "print('sending request...')\n",
    "\n",
    "r = requests.post('https://aspm.faa.gov/tfms/sys/tfms-server-x.asp', headers=headers,data= data_param)\n",
    "print('response: '+ str(r))\n"
   ]
  },
  {
   "cell_type": "markdown",
   "metadata": {},
   "source": [
    "#### Display data in a table"
   ]
  },
  {
   "cell_type": "code",
   "execution_count": 4,
   "metadata": {
    "scrolled": true
   },
   "outputs": [
    {
     "name": "stdout",
     "output_type": "stream",
     "text": [
      "\n",
      "Airport: IAD - Washington\n",
      "      Date Departure Arrival TotalOperations\n",
      "0  01/2020    11,688  11,632          23,320\n",
      "1  02/2020    11,513  11,461          22,974\n",
      "2  03/2020    10,186  10,141          20,327\n",
      "3  04/2020     3,683   3,626           7,309\n",
      "\n",
      "Airport: LAX - Los Angeles\n",
      "      Date Departure Arrival TotalOperations\n",
      "0  01/2020    27,901  27,847          55,748\n",
      "1  02/2020    25,508  25,458          50,966\n",
      "2  03/2020    23,419  23,363          46,782\n",
      "3  04/2020     7,766   7,726          15,492\n",
      "\n",
      "Airport: SFO - San Francisco\n",
      "      Date Departure Arrival TotalOperations\n",
      "0  01/2020    18,502  18,425          36,927\n",
      "1  02/2020    17,251  17,172          34,423\n",
      "2  03/2020    14,990  14,924          29,914\n",
      "3  04/2020     3,996   3,886           7,882\n"
     ]
    }
   ],
   "source": [
    "import pandas as pd\n",
    "from bs4 import BeautifulSoup as bs\n",
    "import numpy as np\n",
    "\n",
    "raw_html_data = str(r.content)\n",
    "\n",
    "soup = bs(raw_html_data, 'html.parser')\n",
    "\n",
    "\n",
    "\n",
    "raw_data = soup.find_all('tr')[3:-5]\n",
    "\n",
    "airports_index = {}\n",
    "\n",
    "apt = raw_data[0].findChildren()[1].text.strip()\n",
    "start = 0\n",
    "\n",
    "for i in range(1,len(raw_data)):\n",
    "    if(apt == raw_data[i].findChildren()[1].text.strip()):\n",
    "        continue\n",
    "    airports_index[apt]= '{}:{}'.format(start,i)\n",
    "    apt = raw_data[i].findChildren()[1].text.strip()\n",
    "    start = i\n",
    "    \n",
    "airports_index[apt]= '{}:{}'.format(start,len(raw_data))\n",
    "\n",
    "\n",
    "data_headers = []\n",
    "\n",
    "for child in soup.find_all('tr')[1].findChildren('td'):\n",
    "    if child.text.isalpha():\n",
    "        data_headers.append(child.text)\n",
    "data_headers=data_headers[1:]\n",
    "\n",
    "airports_data = {}\n",
    "\n",
    "\n",
    "for apt in airports_index:\n",
    "    data = []\n",
    "    idx = airports_index[apt].split(':')\n",
    "    for row in raw_data[int(idx[0]):int(idx[1])]:\n",
    "        children = row.findChildren()\n",
    "        row_data = [children[4].text,children[12].text,children[20].text,children[23].text]\n",
    "        data.append(row_data)\n",
    "\n",
    "    airports_data[apt] = pd.DataFrame(data= data, columns=data_headers)\n",
    "\n",
    "    print('\\nAirport: {}'.format(apt))\n",
    "    print(airports_data[apt])"
   ]
  },
  {
   "cell_type": "markdown",
   "metadata": {},
   "source": [
    "#### Display data in a chart"
   ]
  },
  {
   "cell_type": "code",
   "execution_count": 5,
   "metadata": {
    "scrolled": true
   },
   "outputs": [
    {
     "name": "stdout",
     "output_type": "stream",
     "text": [
      "enter which category to plot: Arrival\n",
      "Airport: IAD - Washington\n"
     ]
    },
    {
     "data": {
      "image/png": "[encoded data removed]",
      "text/plain": [
       "<Figure size 1080x144 with 1 Axes>"
      ]
     },
     "metadata": {
      "needs_background": "light"
     },
     "output_type": "display_data"
    },
    {
     "name": "stdout",
     "output_type": "stream",
     "text": [
      "Airport: LAX - Los Angeles\n"
     ]
    },
    {
     "data": {
      "image/png": "[encoded data removed]",
      "text/plain": [
       "<Figure size 1080x144 with 1 Axes>"
      ]
     },
     "metadata": {
      "needs_background": "light"
     },
     "output_type": "display_data"
    },
    {
     "name": "stdout",
     "output_type": "stream",
     "text": [
      "Airport: SFO - San Francisco\n"
     ]
    },
    {
     "data": {
      "image/png": "[encoded data removed]",
      "text/plain": [
       "<Figure size 1080x144 with 1 Axes>"
      ]
     },
     "metadata": {
      "needs_background": "light"
     },
     "output_type": "display_data"
    }
   ],
   "source": [
    "from matplotlib import pyplot as plt\n",
    "from matplotlib import axes\n",
    "\n",
    "cat = input('enter which category to plot: ')\n",
    "\n",
    "for apt in airports_data:\n",
    "    \n",
    "    fig = plt.figure(figsize=(15,2))\n",
    "    axes=fig.add_axes([0,0,1,1])\n",
    "\n",
    "    print('Airport: {}'.format(apt))\n",
    "    df = airports_data[apt]\n",
    "    \n",
    "    axes.set_title(cat)\n",
    "\n",
    "    plt.xlabel('Date')\n",
    "    plt.ylabel('# of {}'.format(cat))\n",
    "        \n",
    "    vals = []\n",
    "        \n",
    "    for val in df[cat]:\n",
    "        vals.append(int(val.replace(',','')))\n",
    "\n",
    "    low = min(vals)\n",
    "    high = max(vals)\n",
    "        \n",
    "    rng =  high - low\n",
    "    axes.set_ylim(ymin=int(low - rng * .1),ymax=int(high + rng * .1))\n",
    "    \n",
    "    frq = 10\n",
    "\n",
    "    step = max(int(len(df['Date'])/frq),1)\n",
    "    tck=range(0,len(df['Date']),step)\n",
    "    \n",
    "    tck_dates = []\n",
    "    for i in tck:\n",
    "        tck_dates.append(df['Date'][i])\n",
    "    plt.xticks(tck,tck_dates)\n",
    "    \n",
    "\n",
    "    axes.plot(df['Date'],vals)\n",
    "        \n",
    "    plt.show()"
   ]
  }
 ],
 "metadata": {
  "kernelspec": {
   "display_name": "Python 3",
   "language": "python",
   "name": "python3"
  },
  "language_info": {
   "codemirror_mode": {
    "name": "ipython",
    "version": 3
   },
   "file_extension": ".py",
   "mimetype": "text/x-python",
   "name": "python",
   "nbconvert_exporter": "python",
   "pygments_lexer": "ipython3",
   "version": "3.7.6"
  }
 },
 "nbformat": 4,
 "nbformat_minor": 4
}
